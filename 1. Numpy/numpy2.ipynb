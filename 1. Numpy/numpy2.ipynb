{
 "cells": [
  {
   "cell_type": "code",
   "execution_count": 1,
   "id": "ed30f6d7",
   "metadata": {},
   "outputs": [],
   "source": [
    "import numpy as np"
   ]
  },
  {
   "cell_type": "markdown",
   "id": "0f429d37",
   "metadata": {},
   "source": [
    "##NUMPY INDEXING AND SELECTION"
   ]
  },
  {
   "cell_type": "code",
   "execution_count": 2,
   "id": "533724d7",
   "metadata": {},
   "outputs": [],
   "source": [
    "test_array = np.arange(0,10)"
   ]
  },
  {
   "cell_type": "code",
   "execution_count": 3,
   "id": "9e3dbab7",
   "metadata": {},
   "outputs": [
    {
     "data": {
      "text/plain": [
       "array([0, 1, 2, 3, 4, 5, 6, 7, 8, 9])"
      ]
     },
     "execution_count": 3,
     "metadata": {},
     "output_type": "execute_result"
    }
   ],
   "source": [
    "test_array"
   ]
  },
  {
   "cell_type": "code",
   "execution_count": 4,
   "id": "6b7dc2f5",
   "metadata": {},
   "outputs": [
    {
     "data": {
      "text/plain": [
       "3"
      ]
     },
     "execution_count": 4,
     "metadata": {},
     "output_type": "execute_result"
    }
   ],
   "source": [
    "test_array[3]"
   ]
  },
  {
   "cell_type": "code",
   "execution_count": 5,
   "id": "3c458e72",
   "metadata": {},
   "outputs": [
    {
     "data": {
      "text/plain": [
       "7"
      ]
     },
     "execution_count": 5,
     "metadata": {},
     "output_type": "execute_result"
    }
   ],
   "source": [
    "test_array[7]"
   ]
  },
  {
   "cell_type": "code",
   "execution_count": 6,
   "id": "45797d09",
   "metadata": {},
   "outputs": [
    {
     "data": {
      "text/plain": [
       "array([0, 1, 2, 3, 4, 5, 6])"
      ]
     },
     "execution_count": 6,
     "metadata": {},
     "output_type": "execute_result"
    }
   ],
   "source": [
    "test_array[0:7]"
   ]
  },
  {
   "cell_type": "code",
   "execution_count": 7,
   "id": "8b91f8cc",
   "metadata": {},
   "outputs": [
    {
     "data": {
      "text/plain": [
       "array([1, 2, 3, 4, 5, 6, 7])"
      ]
     },
     "execution_count": 7,
     "metadata": {},
     "output_type": "execute_result"
    }
   ],
   "source": [
    "test_array[1:8]"
   ]
  },
  {
   "cell_type": "code",
   "execution_count": 8,
   "id": "17ba35a9",
   "metadata": {},
   "outputs": [
    {
     "data": {
      "text/plain": [
       "array([0, 1, 2, 3, 4, 5, 6, 7, 8, 9])"
      ]
     },
     "execution_count": 8,
     "metadata": {},
     "output_type": "execute_result"
    }
   ],
   "source": [
    "test_array[:]"
   ]
  },
  {
   "cell_type": "code",
   "execution_count": 9,
   "id": "1a806163",
   "metadata": {},
   "outputs": [
    {
     "data": {
      "text/plain": [
       "array([0, 1, 2, 3, 4, 5])"
      ]
     },
     "execution_count": 9,
     "metadata": {},
     "output_type": "execute_result"
    }
   ],
   "source": [
    "test_array[:6]"
   ]
  },
  {
   "cell_type": "code",
   "execution_count": 10,
   "id": "f38c9ab0",
   "metadata": {},
   "outputs": [
    {
     "data": {
      "text/plain": [
       "array([3, 4, 5, 6, 7, 8, 9])"
      ]
     },
     "execution_count": 10,
     "metadata": {},
     "output_type": "execute_result"
    }
   ],
   "source": [
    "test_array[3:]"
   ]
  },
  {
   "cell_type": "markdown",
   "id": "23f26add",
   "metadata": {},
   "source": [
    "NUMPY ARRAYS HAVE BROADCASTING CAPABILITY.PARTS OF ARRAY CAN BE ASSIGNED TO ANOTHER VARIABLE, WHICH IS NOT POSSIBLE IN PYTHON LISTS"
   ]
  },
  {
   "cell_type": "code",
   "execution_count": 11,
   "id": "21bf487f",
   "metadata": {},
   "outputs": [],
   "source": [
    "test_array[0:5] = 100"
   ]
  },
  {
   "cell_type": "code",
   "execution_count": 12,
   "id": "a6f149a4",
   "metadata": {},
   "outputs": [
    {
     "data": {
      "text/plain": [
       "array([100, 100, 100, 100, 100,   5,   6,   7,   8,   9])"
      ]
     },
     "execution_count": 12,
     "metadata": {},
     "output_type": "execute_result"
    }
   ],
   "source": [
    "test_array"
   ]
  },
  {
   "cell_type": "code",
   "execution_count": 13,
   "id": "261bcc6e",
   "metadata": {},
   "outputs": [],
   "source": [
    "test_array = np.arange(0,10)"
   ]
  },
  {
   "cell_type": "code",
   "execution_count": 14,
   "id": "3532bb13",
   "metadata": {},
   "outputs": [],
   "source": [
    "slice_of_array = test_array[0:5]"
   ]
  },
  {
   "cell_type": "code",
   "execution_count": 15,
   "id": "da761b6a",
   "metadata": {},
   "outputs": [
    {
     "data": {
      "text/plain": [
       "array([0, 1, 2, 3, 4, 5, 6, 7, 8, 9])"
      ]
     },
     "execution_count": 15,
     "metadata": {},
     "output_type": "execute_result"
    }
   ],
   "source": [
    "test_array"
   ]
  },
  {
   "cell_type": "code",
   "execution_count": 16,
   "id": "927e7c8e",
   "metadata": {},
   "outputs": [
    {
     "data": {
      "text/plain": [
       "array([0, 1, 2, 3, 4])"
      ]
     },
     "execution_count": 16,
     "metadata": {},
     "output_type": "execute_result"
    }
   ],
   "source": [
    "slice_of_array"
   ]
  },
  {
   "cell_type": "markdown",
   "id": "f604e4f3",
   "metadata": {},
   "source": [
    "numpy arrays can be sliced and can be assigned to another variable\n"
   ]
  },
  {
   "cell_type": "code",
   "execution_count": 17,
   "id": "7985fd55",
   "metadata": {},
   "outputs": [],
   "source": [
    "slice_of_array[:] = 90"
   ]
  },
  {
   "cell_type": "code",
   "execution_count": 18,
   "id": "047fd40f",
   "metadata": {},
   "outputs": [
    {
     "data": {
      "text/plain": [
       "array([90, 90, 90, 90, 90,  5,  6,  7,  8,  9])"
      ]
     },
     "execution_count": 18,
     "metadata": {},
     "output_type": "execute_result"
    }
   ],
   "source": [
    "test_array"
   ]
  },
  {
   "cell_type": "markdown",
   "id": "eafd07e4",
   "metadata": {},
   "source": [
    "here slice of array is a part of test array and when slice of array is changed that change is reflected in test array\n"
   ]
  },
  {
   "cell_type": "code",
   "execution_count": 19,
   "id": "6f648a1f",
   "metadata": {},
   "outputs": [],
   "source": [
    "test_array_copy = test_array.copy()"
   ]
  },
  {
   "cell_type": "code",
   "execution_count": 20,
   "id": "41f6080d",
   "metadata": {},
   "outputs": [],
   "source": [
    "test_array_copy[:] = 88"
   ]
  },
  {
   "cell_type": "code",
   "execution_count": 21,
   "id": "9a873045",
   "metadata": {},
   "outputs": [
    {
     "data": {
      "text/plain": [
       "array([88, 88, 88, 88, 88, 88, 88, 88, 88, 88])"
      ]
     },
     "execution_count": 21,
     "metadata": {},
     "output_type": "execute_result"
    }
   ],
   "source": [
    "test_array_copy"
   ]
  },
  {
   "cell_type": "code",
   "execution_count": 22,
   "id": "d72edc41",
   "metadata": {},
   "outputs": [
    {
     "data": {
      "text/plain": [
       "array([90, 90, 90, 90, 90,  5,  6,  7,  8,  9])"
      ]
     },
     "execution_count": 22,
     "metadata": {},
     "output_type": "execute_result"
    }
   ],
   "source": [
    "test_array"
   ]
  },
  {
   "cell_type": "markdown",
   "id": "49e0a13a",
   "metadata": {},
   "source": [
    "note that making a copy of an array and changing its items will not change original array"
   ]
  },
  {
   "cell_type": "code",
   "execution_count": 23,
   "id": "c7c296d8",
   "metadata": {},
   "outputs": [],
   "source": [
    "array_2d = np.array([[1,2,3],[4,5,6],[7,8,9]])"
   ]
  },
  {
   "cell_type": "code",
   "execution_count": 24,
   "id": "cf0e7521",
   "metadata": {},
   "outputs": [
    {
     "data": {
      "text/plain": [
       "array([[1, 2, 3],\n",
       "       [4, 5, 6],\n",
       "       [7, 8, 9]])"
      ]
     },
     "execution_count": 24,
     "metadata": {},
     "output_type": "execute_result"
    }
   ],
   "source": [
    "array_2d"
   ]
  },
  {
   "cell_type": "code",
   "execution_count": 25,
   "id": "1f20d602",
   "metadata": {},
   "outputs": [
    {
     "data": {
      "text/plain": [
       "array([4, 5, 6])"
      ]
     },
     "execution_count": 25,
     "metadata": {},
     "output_type": "execute_result"
    }
   ],
   "source": [
    "array_2d[1]"
   ]
  },
  {
   "cell_type": "code",
   "execution_count": 26,
   "id": "b79de2f5",
   "metadata": {},
   "outputs": [
    {
     "data": {
      "text/plain": [
       "array([7, 8, 9])"
      ]
     },
     "execution_count": 26,
     "metadata": {},
     "output_type": "execute_result"
    }
   ],
   "source": [
    "array_2d[2]"
   ]
  },
  {
   "cell_type": "code",
   "execution_count": 27,
   "id": "28bff748",
   "metadata": {},
   "outputs": [
    {
     "data": {
      "text/plain": [
       "6"
      ]
     },
     "execution_count": 27,
     "metadata": {},
     "output_type": "execute_result"
    }
   ],
   "source": [
    "array_2d[1][2]"
   ]
  },
  {
   "cell_type": "code",
   "execution_count": 28,
   "id": "f2d360e8",
   "metadata": {},
   "outputs": [
    {
     "data": {
      "text/plain": [
       "9"
      ]
     },
     "execution_count": 28,
     "metadata": {},
     "output_type": "execute_result"
    }
   ],
   "source": [
    "array_2d[2,2]"
   ]
  },
  {
   "cell_type": "code",
   "execution_count": 29,
   "id": "4fe55fa0",
   "metadata": {},
   "outputs": [
    {
     "data": {
      "text/plain": [
       "array([[1, 2, 3],\n",
       "       [4, 5, 6]])"
      ]
     },
     "execution_count": 29,
     "metadata": {},
     "output_type": "execute_result"
    }
   ],
   "source": [
    "array_2d[:2]"
   ]
  },
  {
   "cell_type": "code",
   "execution_count": 30,
   "id": "ac05d299",
   "metadata": {},
   "outputs": [
    {
     "data": {
      "text/plain": [
       "array([[2, 3],\n",
       "       [5, 6]])"
      ]
     },
     "execution_count": 30,
     "metadata": {},
     "output_type": "execute_result"
    }
   ],
   "source": [
    "array_2d[:2,1:]"
   ]
  },
  {
   "cell_type": "markdown",
   "id": "ad90f9a6",
   "metadata": {},
   "source": [
    "accessed rows from 0 upto but not including 2 in first step and then that is modified to access everything from first column upto the last column. this type of notation is not common but just in case, get familiar with it"
   ]
  },
  {
   "cell_type": "code",
   "execution_count": 31,
   "id": "41f42ddf",
   "metadata": {},
   "outputs": [],
   "source": [
    "my_array = np.arange(1,11)"
   ]
  },
  {
   "cell_type": "code",
   "execution_count": 32,
   "id": "04e3c208",
   "metadata": {},
   "outputs": [
    {
     "data": {
      "text/plain": [
       "array([ 1,  2,  3,  4,  5,  6,  7,  8,  9, 10])"
      ]
     },
     "execution_count": 32,
     "metadata": {},
     "output_type": "execute_result"
    }
   ],
   "source": [
    "my_array"
   ]
  },
  {
   "cell_type": "code",
   "execution_count": 33,
   "id": "2f5afe59",
   "metadata": {},
   "outputs": [
    {
     "data": {
      "text/plain": [
       "array([False, False, False, False, False,  True,  True,  True,  True,\n",
       "        True])"
      ]
     },
     "execution_count": 33,
     "metadata": {},
     "output_type": "execute_result"
    }
   ],
   "source": [
    "my_array>5"
   ]
  },
  {
   "cell_type": "code",
   "execution_count": 34,
   "id": "02c09cf7",
   "metadata": {},
   "outputs": [],
   "source": [
    "bool_arr = my_array>5"
   ]
  },
  {
   "cell_type": "code",
   "execution_count": 35,
   "id": "6d8ab0e6",
   "metadata": {},
   "outputs": [
    {
     "data": {
      "text/plain": [
       "array([False, False, False, False, False,  True,  True,  True,  True,\n",
       "        True])"
      ]
     },
     "execution_count": 35,
     "metadata": {},
     "output_type": "execute_result"
    }
   ],
   "source": [
    "bool_arr"
   ]
  },
  {
   "cell_type": "code",
   "execution_count": 36,
   "id": "fd0580c9",
   "metadata": {},
   "outputs": [
    {
     "data": {
      "text/plain": [
       "array([ 6,  7,  8,  9, 10])"
      ]
     },
     "execution_count": 36,
     "metadata": {},
     "output_type": "execute_result"
    }
   ],
   "source": [
    "my_array[bool_arr]"
   ]
  },
  {
   "cell_type": "code",
   "execution_count": 37,
   "id": "9dc33f0e",
   "metadata": {},
   "outputs": [
    {
     "data": {
      "text/plain": [
       "array([ 9, 10])"
      ]
     },
     "execution_count": 37,
     "metadata": {},
     "output_type": "execute_result"
    }
   ],
   "source": [
    "my_array[my_array>8]"
   ]
  },
  {
   "cell_type": "markdown",
   "id": "c1714c38",
   "metadata": {},
   "source": [
    "NUMPY OPERATIONS:\n"
   ]
  },
  {
   "cell_type": "code",
   "execution_count": 38,
   "id": "572dca1f",
   "metadata": {},
   "outputs": [
    {
     "data": {
      "text/plain": [
       "array([[[-5.60429958e-01, -1.15753843e+00, -7.76859052e-01,\n",
       "          6.76718795e-01],\n",
       "        [ 1.57190167e+00, -1.36632528e+00,  5.77928011e-01,\n",
       "          1.82959474e-01],\n",
       "        [-5.95764785e-01,  4.44858008e-01,  1.29425915e+00,\n",
       "          5.29286588e-01]],\n",
       "\n",
       "       [[ 4.17692118e-01, -5.82510268e-01,  1.09637390e+00,\n",
       "          1.05214326e+00],\n",
       "        [ 7.74280842e-01,  1.84780833e-01, -4.30546256e-01,\n",
       "          5.76444192e-04],\n",
       "        [ 3.47493189e-01,  3.65743469e-01,  2.40443430e-01,\n",
       "         -6.97845424e-01]]])"
      ]
     },
     "execution_count": 38,
     "metadata": {},
     "output_type": "execute_result"
    }
   ],
   "source": [
    "np.random.randn(2,3,4)"
   ]
  },
  {
   "cell_type": "code",
   "execution_count": 39,
   "id": "2b8441bd",
   "metadata": {},
   "outputs": [],
   "source": [
    "arr_1053 = np.arange(10)"
   ]
  },
  {
   "cell_type": "code",
   "execution_count": 40,
   "id": "0d799c8e",
   "metadata": {},
   "outputs": [
    {
     "data": {
      "text/plain": [
       "array([0, 1, 2, 3, 4, 5, 6, 7, 8, 9])"
      ]
     },
     "execution_count": 40,
     "metadata": {},
     "output_type": "execute_result"
    }
   ],
   "source": [
    "arr_1053"
   ]
  },
  {
   "cell_type": "code",
   "execution_count": 41,
   "id": "ce5d50fe",
   "metadata": {},
   "outputs": [
    {
     "data": {
      "text/plain": [
       "array([10, 11, 12, 13, 14, 15, 16, 17, 18, 19])"
      ]
     },
     "execution_count": 41,
     "metadata": {},
     "output_type": "execute_result"
    }
   ],
   "source": [
    "arr_1053 + 10"
   ]
  },
  {
   "cell_type": "code",
   "execution_count": 42,
   "id": "edd911d5",
   "metadata": {},
   "outputs": [
    {
     "data": {
      "text/plain": [
       "array([ 0,  2,  4,  6,  8, 10, 12, 14, 16, 18])"
      ]
     },
     "execution_count": 42,
     "metadata": {},
     "output_type": "execute_result"
    }
   ],
   "source": [
    "arr_1053 *2"
   ]
  },
  {
   "cell_type": "code",
   "execution_count": 43,
   "id": "90d654c3",
   "metadata": {},
   "outputs": [
    {
     "name": "stderr",
     "output_type": "stream",
     "text": [
      "C:\\Users\\NithinNazar\\AppData\\Local\\Temp\\ipykernel_10660\\352255956.py:1: RuntimeWarning: invalid value encountered in true_divide\n",
      "  arr_1053 / arr_1053\n"
     ]
    },
    {
     "data": {
      "text/plain": [
       "array([nan,  1.,  1.,  1.,  1.,  1.,  1.,  1.,  1.,  1.])"
      ]
     },
     "execution_count": 43,
     "metadata": {},
     "output_type": "execute_result"
    }
   ],
   "source": [
    "arr_1053 / arr_1053"
   ]
  },
  {
   "cell_type": "code",
   "execution_count": 44,
   "id": "6c074211",
   "metadata": {},
   "outputs": [
    {
     "ename": "ZeroDivisionError",
     "evalue": "division by zero",
     "output_type": "error",
     "traceback": [
      "\u001b[1;31m---------------------------------------------------------------------------\u001b[0m",
      "\u001b[1;31mZeroDivisionError\u001b[0m                         Traceback (most recent call last)",
      "Input \u001b[1;32mIn [44]\u001b[0m, in \u001b[0;36m<cell line: 1>\u001b[1;34m()\u001b[0m\n\u001b[1;32m----> 1\u001b[0m \u001b[38;5;241;43m1\u001b[39;49m\u001b[38;5;241;43m/\u001b[39;49m\u001b[38;5;241;43m0\u001b[39;49m\n",
      "\u001b[1;31mZeroDivisionError\u001b[0m: division by zero"
     ]
    }
   ],
   "source": [
    "1/0"
   ]
  },
  {
   "cell_type": "code",
   "execution_count": null,
   "id": "d23c6da0",
   "metadata": {},
   "outputs": [],
   "source": [
    "2/arr_1053"
   ]
  },
  {
   "cell_type": "markdown",
   "id": "3168a86b",
   "metadata": {},
   "source": [
    "BASIC ARITHMATIC OPERATIONS IS DONE ON ELEMENT WISE IN AN ARRAY.\n",
    "DIVIDING AN ELEMENT IN AN ARRAY BY ZERO OR ZERO DIVIDED BY ZERO GIVES WARNING NOT ACTUAL ERRORS. THIS CAN BE DANGEROUS. LOOK OUT FOR IT"
   ]
  },
  {
   "cell_type": "code",
   "execution_count": null,
   "id": "c84ff2a1",
   "metadata": {},
   "outputs": [],
   "source": [
    "np.sqrt(arr_1053)"
   ]
  },
  {
   "cell_type": "code",
   "execution_count": null,
   "id": "d9df19af",
   "metadata": {},
   "outputs": [],
   "source": [
    "np.sin(arr_1053)"
   ]
  },
  {
   "cell_type": "code",
   "execution_count": null,
   "id": "5c3182ad",
   "metadata": {},
   "outputs": [],
   "source": [
    "np.cos(arr_1053)"
   ]
  },
  {
   "cell_type": "code",
   "execution_count": null,
   "id": "ce9d27e4",
   "metadata": {},
   "outputs": [],
   "source": [
    "np.log(arr_1053)"
   ]
  },
  {
   "cell_type": "code",
   "execution_count": null,
   "id": "bcb71522",
   "metadata": {},
   "outputs": [],
   "source": [
    "arr_1053.sum()"
   ]
  },
  {
   "cell_type": "code",
   "execution_count": null,
   "id": "246d5781",
   "metadata": {},
   "outputs": [],
   "source": [
    "arr_1053.mean()"
   ]
  },
  {
   "cell_type": "code",
   "execution_count": null,
   "id": "326ce6af",
   "metadata": {},
   "outputs": [],
   "source": [
    "arr_1053.var()"
   ]
  },
  {
   "cell_type": "code",
   "execution_count": null,
   "id": "00f29239",
   "metadata": {},
   "outputs": [],
   "source": [
    "arr_1053.std()"
   ]
  },
  {
   "cell_type": "code",
   "execution_count": null,
   "id": "742a8a07",
   "metadata": {},
   "outputs": [],
   "source": [
    "arr2d = np.arange(0,25).reshape(5,5)"
   ]
  },
  {
   "cell_type": "code",
   "execution_count": null,
   "id": "7d451c95",
   "metadata": {},
   "outputs": [],
   "source": [
    "arr2d"
   ]
  },
  {
   "cell_type": "code",
   "execution_count": null,
   "id": "b73ee86b",
   "metadata": {},
   "outputs": [],
   "source": [
    "arr2d.sum()"
   ]
  },
  {
   "cell_type": "code",
   "execution_count": null,
   "id": "7af26163",
   "metadata": {},
   "outputs": [],
   "source": [
    "arr2d.shape"
   ]
  },
  {
   "cell_type": "code",
   "execution_count": null,
   "id": "550881a5",
   "metadata": {},
   "outputs": [],
   "source": [
    "arr2d.sum(axis=0)"
   ]
  },
  {
   "cell_type": "code",
   "execution_count": null,
   "id": "1adb5f84",
   "metadata": {},
   "outputs": [],
   "source": [
    "arr2d.sum(axis=1)"
   ]
  },
  {
   "cell_type": "markdown",
   "id": "eeeafc2b",
   "metadata": {},
   "source": [
    "AXIS IS THE INDEX OF SHAPE OF THR 2D ARRAY. AXIS = 0 IS THE INDEX OF ROWS AND OPERATION IS DONE ACROSS THE ROW.\n",
    "AXIS =1 IS THE INDEX OF COLUMN AND OPERATION IS DONE ACROSS THE COLUMN"
   ]
  },
  {
   "cell_type": "code",
   "execution_count": null,
   "id": "ef2a91d8",
   "metadata": {},
   "outputs": [],
   "source": [
    "np.random.rand(5)"
   ]
  },
  {
   "cell_type": "code",
   "execution_count": null,
   "id": "c5d99184",
   "metadata": {},
   "outputs": [],
   "source": [
    "np.random.seed(101)"
   ]
  },
  {
   "cell_type": "code",
   "execution_count": null,
   "id": "810ffe3a",
   "metadata": {},
   "outputs": [],
   "source": [
    "np.random.rand(5)"
   ]
  },
  {
   "cell_type": "code",
   "execution_count": null,
   "id": "b52d65b2",
   "metadata": {},
   "outputs": [],
   "source": [
    "np.random.rand(5)"
   ]
  },
  {
   "cell_type": "code",
   "execution_count": null,
   "id": "5cf246e9",
   "metadata": {},
   "outputs": [],
   "source": [
    "np.random.seed(101)\n",
    "np.random.rand(5)"
   ]
  },
  {
   "cell_type": "code",
   "execution_count": null,
   "id": "c2894171",
   "metadata": {},
   "outputs": [],
   "source": [
    "np.random.seed(101)\n",
    "np.random.rand(5)"
   ]
  },
  {
   "cell_type": "code",
   "execution_count": 45,
   "id": "84cd3290",
   "metadata": {},
   "outputs": [],
   "source": [
    "nd_arr = np.arange(0,50)"
   ]
  },
  {
   "cell_type": "code",
   "execution_count": 46,
   "id": "9aeb9fe4",
   "metadata": {},
   "outputs": [
    {
     "data": {
      "text/plain": [
       "array([ 0,  1,  2,  3,  4,  5,  6,  7,  8,  9, 10, 11, 12, 13, 14, 15, 16,\n",
       "       17, 18, 19, 20, 21, 22, 23, 24, 25, 26, 27, 28, 29, 30, 31, 32, 33,\n",
       "       34, 35, 36, 37, 38, 39, 40, 41, 42, 43, 44, 45, 46, 47, 48, 49])"
      ]
     },
     "execution_count": 46,
     "metadata": {},
     "output_type": "execute_result"
    }
   ],
   "source": [
    "nd_arr"
   ]
  },
  {
   "cell_type": "code",
   "execution_count": 54,
   "id": "e19a17d7",
   "metadata": {},
   "outputs": [],
   "source": [
    "ndr =  np.random.randint(0,100,(2,3,4))"
   ]
  },
  {
   "cell_type": "code",
   "execution_count": 55,
   "id": "66ca1886",
   "metadata": {},
   "outputs": [
    {
     "data": {
      "text/plain": [
       "array([[[31, 25, 55, 29],\n",
       "        [ 3, 97,  8, 97],\n",
       "        [ 2, 34, 15, 18]],\n",
       "\n",
       "       [[19, 88, 97,  7],\n",
       "        [86, 47, 94, 64],\n",
       "        [52, 27, 39, 25]]])"
      ]
     },
     "execution_count": 55,
     "metadata": {},
     "output_type": "execute_result"
    }
   ],
   "source": [
    "ndr"
   ]
  },
  {
   "cell_type": "code",
   "execution_count": 56,
   "id": "700d4f92",
   "metadata": {},
   "outputs": [
    {
     "data": {
      "text/plain": [
       "1059"
      ]
     },
     "execution_count": 56,
     "metadata": {},
     "output_type": "execute_result"
    }
   ],
   "source": [
    "ndr.sum()"
   ]
  },
  {
   "cell_type": "code",
   "execution_count": 62,
   "id": "a259d32d",
   "metadata": {},
   "outputs": [
    {
     "data": {
      "text/plain": [
       "array([[ 50, 113, 152,  36],\n",
       "       [ 89, 144, 102, 161],\n",
       "       [ 54,  61,  54,  43]])"
      ]
     },
     "execution_count": 62,
     "metadata": {},
     "output_type": "execute_result"
    }
   ],
   "source": [
    "ndr.sum(axis=0)"
   ]
  },
  {
   "cell_type": "code",
   "execution_count": null,
   "id": "db054cdd",
   "metadata": {},
   "outputs": [],
   "source": []
  }
 ],
 "metadata": {
  "kernelspec": {
   "display_name": "Python 3 (ipykernel)",
   "language": "python",
   "name": "python3"
  },
  "language_info": {
   "codemirror_mode": {
    "name": "ipython",
    "version": 3
   },
   "file_extension": ".py",
   "mimetype": "text/x-python",
   "name": "python",
   "nbconvert_exporter": "python",
   "pygments_lexer": "ipython3",
   "version": "3.10.4"
  }
 },
 "nbformat": 4,
 "nbformat_minor": 5
}
