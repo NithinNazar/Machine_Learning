{
 "cells": [
  {
   "cell_type": "code",
   "execution_count": 27,
   "id": "44f0b579",
   "metadata": {},
   "outputs": [],
   "source": [
    "import numpy as np"
   ]
  },
  {
   "cell_type": "code",
   "execution_count": 28,
   "id": "bdacfc7d",
   "metadata": {},
   "outputs": [],
   "source": [
    "import pandas as pd"
   ]
  },
  {
   "cell_type": "code",
   "execution_count": 29,
   "id": "69827d00",
   "metadata": {},
   "outputs": [],
   "source": [
    "index_1 = [\"zero\",\"one\",\"two\"]"
   ]
  },
  {
   "cell_type": "code",
   "execution_count": 30,
   "id": "adb6f883",
   "metadata": {},
   "outputs": [],
   "source": [
    "data_1 = [0,1,2]\n"
   ]
  },
  {
   "cell_type": "code",
   "execution_count": 31,
   "id": "f06ab74b",
   "metadata": {},
   "outputs": [],
   "source": [
    "ser_1 = pd.Series(data=data_1)"
   ]
  },
  {
   "cell_type": "code",
   "execution_count": 32,
   "id": "0bdaef74",
   "metadata": {},
   "outputs": [
    {
     "data": {
      "text/plain": [
       "0    0\n",
       "1    1\n",
       "2    2\n",
       "dtype: int64"
      ]
     },
     "execution_count": 32,
     "metadata": {},
     "output_type": "execute_result"
    }
   ],
   "source": [
    "ser_1"
   ]
  },
  {
   "cell_type": "code",
   "execution_count": 33,
   "id": "ec24d20c",
   "metadata": {},
   "outputs": [],
   "source": [
    "ser_1 = pd.Series(data=data_1,index=index_1)"
   ]
  },
  {
   "cell_type": "code",
   "execution_count": 34,
   "id": "510593fa",
   "metadata": {},
   "outputs": [
    {
     "data": {
      "text/plain": [
       "zero    0\n",
       "one     1\n",
       "two     2\n",
       "dtype: int64"
      ]
     },
     "execution_count": 34,
     "metadata": {},
     "output_type": "execute_result"
    }
   ],
   "source": [
    "ser_1"
   ]
  },
  {
   "cell_type": "code",
   "execution_count": 35,
   "id": "2b6bcf35",
   "metadata": {},
   "outputs": [],
   "source": [
    "my_dict = {\"zero\": 0, \"one\": 1, \"two\": 2}\n"
   ]
  },
  {
   "cell_type": "code",
   "execution_count": 36,
   "id": "9ae1c6df",
   "metadata": {},
   "outputs": [
    {
     "data": {
      "text/plain": [
       "zero    0\n",
       "one     1\n",
       "two     2\n",
       "dtype: int64"
      ]
     },
     "execution_count": 36,
     "metadata": {},
     "output_type": "execute_result"
    }
   ],
   "source": [
    "pd.Series(my_dict)"
   ]
  },
  {
   "cell_type": "markdown",
   "id": "4aa78369",
   "metadata": {},
   "source": [
    "in a dict key is converted into labelled index by pandas"
   ]
  },
  {
   "cell_type": "code",
   "execution_count": null,
   "id": "a6691f20",
   "metadata": {},
   "outputs": [],
   "source": []
  }
 ],
 "metadata": {
  "kernelspec": {
   "display_name": "Python 3 (ipykernel)",
   "language": "python",
   "name": "python3"
  },
  "language_info": {
   "codemirror_mode": {
    "name": "ipython",
    "version": 3
   },
   "file_extension": ".py",
   "mimetype": "text/x-python",
   "name": "python",
   "nbconvert_exporter": "python",
   "pygments_lexer": "ipython3",
   "version": "3.10.4"
  }
 },
 "nbformat": 4,
 "nbformat_minor": 5
}
